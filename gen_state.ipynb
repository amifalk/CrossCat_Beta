{
 "cells": [
  {
   "cell_type": "code",
   "execution_count": 1,
   "metadata": {},
   "outputs": [],
   "source": [
    "import numpy as np\n",
    "from numpy.random import default_rng\n",
    "\n",
    "import matplotlib.pyplot as plt\n",
    "import seaborn as sns\n",
    "\n",
    "from state import State"
   ]
  },
  {
   "cell_type": "code",
   "execution_count": 92,
   "metadata": {},
   "outputs": [],
   "source": [
    "cc_paper = {0: \"tail\", 1:\"pattern\", 2:\"head\", 3:\"antenna\", 4:\"feet\", 5:\"legs\"}"
   ]
  },
  {
   "cell_type": "code",
   "execution_count": 97,
   "metadata": {},
   "outputs": [],
   "source": [
    "def plot_state(state):\n",
    "    fig, axs = plt.subplots(1, len(state.views))\n",
    "    \n",
    "    for i, view in enumerate(state.views):\n",
    "        dim_indeces = view.get_dim_indeces()\n",
    "\n",
    "        subset = state.data[:, dim_indeces]\n",
    "        to_graph = np.zeros_like(subset)\n",
    "        \n",
    "        # construct matrix for the view\n",
    "        cur = 0\n",
    "        row_order = []\n",
    "        dividing_lines = []\n",
    "        for cluster in view.elements:\n",
    "            to_graph[range(cur, cur + len(cluster)), :] = subset[list(cluster)]\n",
    "            cur += len(cluster)\n",
    "            row_order += list(cluster)\n",
    "            dividing_lines.append(cur - .5)\n",
    "        \n",
    "        if len(state.views) == 1:\n",
    "            ax = plt.subplot()\n",
    "            ax.xaxis.set_ticks(range(len(dim_indeces)))\n",
    "            ax.set_xticklabels(dim_indeces)\n",
    "            ax.yaxis.set_ticks(range(state.n_obs))\n",
    "            ax.set_yticklabels(row_order)\n",
    "\n",
    "            ax.matshow(to_graph)\n",
    "        \n",
    "        else:\n",
    "            for line in dividing_lines:\n",
    "                axs[i].axhline(y = line, color = 'r', linestyle = '-')\n",
    "                \n",
    "            axs[i].xaxis.set_ticks(range(len(dim_indeces)))\n",
    "            axs[i].set_xticklabels(dim_indeces)\n",
    "\n",
    "            axs[i].yaxis.set_ticks(range(state.n_obs))\n",
    "            axs[i].set_yticklabels(row_order)\n",
    "\n",
    "            axs[i].matshow(to_graph)"
   ]
  },
  {
   "cell_type": "code",
   "execution_count": 2,
   "metadata": {},
   "outputs": [],
   "source": [
    "# Fig 4, example (a) from crosscat 2011\n",
    "data = np.array(\n",
    "    [\n",
    "        [0, 0, 1, 0, 1, 0],\n",
    "        [0, 0, 1, 1, 0, 0],\n",
    "        [0, 1, 0, 0, 0, 1],\n",
    "        [0, 1, 0, 0, 1, 0],\n",
    "        [0, 1, 0, 1, 0, 0],\n",
    "        [1, 0, 0, 0, 0, 1],\n",
    "        [1, 0, 0, 0, 1, 0],\n",
    "        [1, 0, 0, 1, 0, 0],\n",
    "    ]\n",
    ")\n",
    "\n",
    "n_obs, n_dims = data.shape"
   ]
  },
  {
   "cell_type": "code",
   "execution_count": null,
   "metadata": {},
   "outputs": [],
   "source": [
    "default_rng().gamma(1, 1)"
   ]
  },
  {
   "cell_type": "code",
   "execution_count": 75,
   "metadata": {},
   "outputs": [],
   "source": [
    "my_state = State(data, alpha=1)"
   ]
  },
  {
   "cell_type": "code",
   "execution_count": 76,
   "metadata": {},
   "outputs": [
    {
     "name": "stdout",
     "output_type": "stream",
     "text": [
      "sweep 1/100\n",
      "sweep 2/100\n",
      "sweep 3/100\n",
      "sweep 4/100\n",
      "sweep 5/100\n",
      "sweep 6/100\n",
      "sweep 7/100\n",
      "sweep 8/100\n",
      "sweep 9/100\n",
      "sweep 10/100\n",
      "sweep 11/100\n",
      "sweep 12/100\n",
      "sweep 13/100\n",
      "sweep 14/100\n",
      "sweep 15/100\n",
      "sweep 16/100\n",
      "sweep 17/100\n",
      "sweep 18/100\n",
      "sweep 19/100\n",
      "sweep 20/100\n",
      "sweep 21/100\n",
      "sweep 22/100\n",
      "sweep 23/100\n",
      "sweep 24/100\n",
      "sweep 25/100\n",
      "sweep 26/100\n",
      "sweep 27/100\n",
      "sweep 28/100\n",
      "sweep 29/100\n",
      "sweep 30/100\n",
      "sweep 31/100\n",
      "sweep 32/100\n",
      "sweep 33/100\n",
      "sweep 34/100\n",
      "sweep 35/100\n",
      "sweep 36/100\n",
      "sweep 37/100\n",
      "sweep 38/100\n",
      "sweep 39/100\n",
      "sweep 40/100\n",
      "sweep 41/100\n",
      "sweep 42/100\n",
      "sweep 43/100\n",
      "sweep 44/100\n",
      "sweep 45/100\n",
      "sweep 46/100\n",
      "sweep 47/100\n",
      "sweep 48/100\n",
      "sweep 49/100\n",
      "sweep 50/100\n",
      "sweep 51/100\n",
      "sweep 52/100\n",
      "sweep 53/100\n",
      "sweep 54/100\n",
      "sweep 55/100\n",
      "sweep 56/100\n",
      "sweep 57/100\n",
      "sweep 58/100\n",
      "sweep 59/100\n",
      "sweep 60/100\n",
      "sweep 61/100\n",
      "sweep 62/100\n",
      "sweep 63/100\n",
      "sweep 64/100\n",
      "sweep 65/100\n",
      "sweep 66/100\n",
      "sweep 67/100\n",
      "sweep 68/100\n",
      "sweep 69/100\n",
      "sweep 70/100\n",
      "sweep 71/100\n",
      "sweep 72/100\n",
      "sweep 73/100\n",
      "sweep 74/100\n",
      "sweep 75/100\n",
      "sweep 76/100\n",
      "sweep 77/100\n",
      "sweep 78/100\n",
      "sweep 79/100\n",
      "sweep 80/100\n",
      "sweep 81/100\n",
      "sweep 82/100\n",
      "sweep 83/100\n",
      "sweep 84/100\n",
      "sweep 85/100\n",
      "sweep 86/100\n",
      "sweep 87/100\n",
      "sweep 88/100\n",
      "sweep 89/100\n",
      "sweep 90/100\n",
      "sweep 91/100\n",
      "sweep 92/100\n",
      "sweep 93/100\n",
      "sweep 94/100\n",
      "sweep 95/100\n",
      "sweep 96/100\n",
      "sweep 97/100\n",
      "sweep 98/100\n",
      "sweep 99/100\n",
      "sweep 100/100\n"
     ]
    }
   ],
   "source": [
    "my_state.transition(100)"
   ]
  },
  {
   "cell_type": "code",
   "execution_count": 99,
   "metadata": {},
   "outputs": [
    {
     "data": {
      "image/png": "[encoded data removed]",
      "text/plain": [
       "<Figure size 640x480 with 3 Axes>"
      ]
     },
     "metadata": {},
     "output_type": "display_data"
    }
   ],
   "source": [
    "plot_state(my_state) "
   ]
  },
  {
   "cell_type": "code",
   "execution_count": 91,
   "metadata": {},
   "outputs": [
    {
     "name": "stdout",
     "output_type": "stream",
     "text": [
      "Dim 5: [0.22897673516531825, 0.7332660242914494], {'s': 1.7243497742588065, 'b': 0.5785793245914403}\n"
     ]
    }
   ],
   "source": [
    "for dim in my_state.views[2].dims:\n",
    "    print(f\"Dim {dim.index}: {dim.params}, {dim.hypers}\")"
   ]
  },
  {
   "cell_type": "code",
   "execution_count": 98,
   "metadata": {},
   "outputs": [
    {
     "data": {
      "text/plain": [
       "<matplotlib.image.AxesImage at 0x1e545209750>"
      ]
     },
     "execution_count": 98,
     "metadata": {},
     "output_type": "execute_result"
    },
    {
     "data": {
      "image/png": "[encoded data removed]",
      "text/plain": [
       "<Figure size 400x533.333 with 1 Axes>"
      ]
     },
     "metadata": {},
     "output_type": "display_data"
    }
   ],
   "source": [
    "plt.matshow(data)"
   ]
  },
  {
   "cell_type": "code",
   "execution_count": null,
   "metadata": {},
   "outputs": [],
   "source": [
    "# data = np.ones((1000, 2))\n",
    "# data = np.concatenate((data, np.zeros((2000, 2))))\n",
    "# n_obs, n_dims = data.shape"
   ]
  }
 ],
 "metadata": {
  "kernelspec": {
   "display_name": "sith_env",
   "language": "python",
   "name": "python3"
  },
  "language_info": {
   "codemirror_mode": {
    "name": "ipython",
    "version": 3
   },
   "file_extension": ".py",
   "mimetype": "text/x-python",
   "name": "python",
   "nbconvert_exporter": "python",
   "pygments_lexer": "ipython3",
   "version": "3.10.9"
  },
  "orig_nbformat": 4,
  "vscode": {
   "interpreter": {
    "hash": "1d1c6ac44c4526c173b2d6397552bb59dab39cd395e0f154fdb00f7cac3428c0"
   }
  }
 },
 "nbformat": 4,
 "nbformat_minor": 2
}
