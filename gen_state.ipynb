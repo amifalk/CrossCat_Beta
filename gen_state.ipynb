{
 "cells": [
  {
   "cell_type": "code",
   "execution_count": 67,
   "metadata": {},
   "outputs": [],
   "source": [
    "import numpy as np\n",
    "from numpy.random import default_rng\n",
    "\n",
    "import matplotlib.pyplot as plt\n",
    "import seaborn as sns\n",
    "\n",
    "from state import State\n",
    "from copy import deepcopy"
   ]
  },
  {
   "cell_type": "code",
   "execution_count": 92,
   "metadata": {},
   "outputs": [],
   "source": [
    "cc_paper = {0: \"tail\", 1:\"pattern\", 2:\"head\", 3:\"antenna\", 4:\"feet\", 5:\"legs\"}"
   ]
  },
  {
   "cell_type": "code",
   "execution_count": 73,
   "metadata": {},
   "outputs": [],
   "source": [
    "def plot_state(state):\n",
    "    fig, axs = plt.subplots(1, len(state.views))\n",
    "    \n",
    "    for i, view in enumerate(state.views):\n",
    "        dim_indeces = view.get_dim_indeces()\n",
    "\n",
    "        subset = state.data[:, dim_indeces]\n",
    "        to_graph = np.zeros_like(subset)\n",
    "        \n",
    "        # construct matrix for the view\n",
    "        cur = 0\n",
    "        row_order = []\n",
    "        dividing_lines = []\n",
    "        for cluster in view.elements:\n",
    "            to_graph[range(cur, cur + len(cluster)), :] = subset[list(cluster)]\n",
    "            cur += len(cluster)\n",
    "            row_order += list(cluster)\n",
    "            dividing_lines.append(cur - .5)\n",
    "        \n",
    "        if len(state.views) == 1:\n",
    "            ax = plt.subplot()\n",
    "            \n",
    "            for line in dividing_lines:\n",
    "                ax.axhline(y = line, color = 'r', linestyle = '-')\n",
    "\n",
    "            ax.xaxis.set_ticks(range(len(dim_indeces)))\n",
    "            ax.set_xticklabels(dim_indeces)\n",
    "            ax.yaxis.set_ticks(range(state.n_obs))\n",
    "            ax.set_yticklabels(row_order)\n",
    "\n",
    "            ax.matshow(to_graph)\n",
    "        \n",
    "        else:\n",
    "            for line in dividing_lines:\n",
    "                axs[i].axhline(y = line, color = 'r', linestyle = '-')\n",
    "                \n",
    "            axs[i].xaxis.set_ticks(range(len(dim_indeces)))\n",
    "            axs[i].set_xticklabels(dim_indeces)\n",
    "\n",
    "            axs[i].yaxis.set_ticks(range(state.n_obs))\n",
    "            axs[i].set_yticklabels(row_order)\n",
    "\n",
    "            axs[i].matshow(to_graph)"
   ]
  },
  {
   "cell_type": "code",
   "execution_count": 3,
   "metadata": {},
   "outputs": [],
   "source": [
    "# Fig 4, example (a) from crosscat 2011\n",
    "data = np.array(\n",
    "    [\n",
    "        [0, 0, 1, 0, 1, 0],\n",
    "        [0, 0, 1, 1, 0, 0],\n",
    "        [0, 1, 0, 0, 0, 1],\n",
    "        [0, 1, 0, 0, 1, 0],\n",
    "        [0, 1, 0, 1, 0, 0],\n",
    "        [1, 0, 0, 0, 0, 1],\n",
    "        [1, 0, 0, 0, 1, 0],\n",
    "        [1, 0, 0, 1, 0, 0],\n",
    "    ]\n",
    ")\n",
    "\n",
    "n_obs, n_dims = data.shape"
   ]
  },
  {
   "cell_type": "code",
   "execution_count": null,
   "metadata": {},
   "outputs": [],
   "source": [
    "default_rng().gamma(1, 1)"
   ]
  },
  {
   "cell_type": "code",
   "execution_count": 98,
   "metadata": {},
   "outputs": [
    {
     "data": {
      "text/plain": [
       "-103.97528350151946"
      ]
     },
     "execution_count": 98,
     "metadata": {},
     "output_type": "execute_result"
    }
   ],
   "source": [
    "my_state = State(data, alpha=1)\n",
    "my_state.calc_log_lik_model()"
   ]
  },
  {
   "cell_type": "code",
   "execution_count": null,
   "metadata": {},
   "outputs": [],
   "source": [
    "states = []\n",
    "liks = []\n",
    "states.append(deepcopy(my_state))\n",
    "liks.append(my_state.calc_log_lik_model())"
   ]
  },
  {
   "cell_type": "code",
   "execution_count": 116,
   "metadata": {},
   "outputs": [
    {
     "name": "stdout",
     "output_type": "stream",
     "text": [
      "iter 0\n",
      "sweep 1/5\n",
      "sweep 2/5\n",
      "sweep 3/5\n",
      "sweep 4/5\n",
      "sweep 5/5\n",
      "iter 1\n",
      "sweep 1/5\n",
      "sweep 2/5\n",
      "sweep 3/5\n",
      "sweep 4/5\n",
      "sweep 5/5\n",
      "iter 2\n",
      "sweep 1/5\n",
      "sweep 2/5\n",
      "sweep 3/5\n",
      "sweep 4/5\n",
      "sweep 5/5\n",
      "iter 3\n",
      "sweep 1/5\n",
      "sweep 2/5\n",
      "sweep 3/5\n",
      "sweep 4/5\n",
      "sweep 5/5\n",
      "iter 4\n",
      "sweep 1/5\n",
      "sweep 2/5\n",
      "sweep 3/5\n",
      "sweep 4/5\n",
      "sweep 5/5\n",
      "iter 5\n",
      "sweep 1/5\n",
      "sweep 2/5\n",
      "sweep 3/5\n",
      "sweep 4/5\n",
      "sweep 5/5\n",
      "iter 6\n",
      "sweep 1/5\n",
      "sweep 2/5\n",
      "sweep 3/5\n",
      "sweep 4/5\n",
      "sweep 5/5\n",
      "iter 7\n",
      "sweep 1/5\n",
      "sweep 2/5\n",
      "sweep 3/5\n",
      "sweep 4/5\n",
      "sweep 5/5\n",
      "iter 8\n",
      "sweep 1/5\n",
      "sweep 2/5\n",
      "sweep 3/5\n",
      "sweep 4/5\n",
      "sweep 5/5\n",
      "iter 9\n",
      "sweep 1/5\n",
      "sweep 2/5\n",
      "sweep 3/5\n",
      "sweep 4/5\n",
      "sweep 5/5\n",
      "iter 10\n",
      "sweep 1/5\n",
      "sweep 2/5\n",
      "sweep 3/5\n",
      "sweep 4/5\n",
      "sweep 5/5\n",
      "iter 11\n",
      "sweep 1/5\n",
      "sweep 2/5\n",
      "sweep 3/5\n",
      "sweep 4/5\n",
      "sweep 5/5\n",
      "iter 12\n",
      "sweep 1/5\n",
      "sweep 2/5\n",
      "sweep 3/5\n",
      "sweep 4/5\n",
      "sweep 5/5\n",
      "iter 13\n",
      "sweep 1/5\n",
      "sweep 2/5\n",
      "sweep 3/5\n",
      "sweep 4/5\n",
      "sweep 5/5\n",
      "iter 14\n",
      "sweep 1/5\n",
      "sweep 2/5\n",
      "sweep 3/5\n",
      "sweep 4/5\n",
      "sweep 5/5\n",
      "iter 15\n",
      "sweep 1/5\n",
      "sweep 2/5\n",
      "sweep 3/5\n",
      "sweep 4/5\n",
      "sweep 5/5\n",
      "iter 16\n",
      "sweep 1/5\n",
      "sweep 2/5\n",
      "sweep 3/5\n",
      "sweep 4/5\n",
      "sweep 5/5\n",
      "iter 17\n",
      "sweep 1/5\n",
      "sweep 2/5\n",
      "sweep 3/5\n",
      "sweep 4/5\n",
      "sweep 5/5\n",
      "iter 18\n",
      "sweep 1/5\n",
      "sweep 2/5\n",
      "sweep 3/5\n",
      "sweep 4/5\n",
      "sweep 5/5\n",
      "iter 19\n",
      "sweep 1/5\n",
      "sweep 2/5\n",
      "sweep 3/5\n",
      "sweep 4/5\n",
      "sweep 5/5\n",
      "iter 20\n",
      "sweep 1/5\n",
      "sweep 2/5\n",
      "sweep 3/5\n",
      "sweep 4/5\n",
      "sweep 5/5\n",
      "iter 21\n",
      "sweep 1/5\n",
      "sweep 2/5\n",
      "sweep 3/5\n",
      "sweep 4/5\n",
      "sweep 5/5\n",
      "iter 22\n",
      "sweep 1/5\n",
      "sweep 2/5\n",
      "sweep 3/5\n",
      "sweep 4/5\n",
      "sweep 5/5\n",
      "iter 23\n",
      "sweep 1/5\n",
      "sweep 2/5\n",
      "sweep 3/5\n",
      "sweep 4/5\n",
      "sweep 5/5\n",
      "iter 24\n",
      "sweep 1/5\n",
      "sweep 2/5\n",
      "sweep 3/5\n",
      "sweep 4/5\n",
      "sweep 5/5\n",
      "iter 25\n",
      "sweep 1/5\n",
      "sweep 2/5\n",
      "sweep 3/5\n",
      "sweep 4/5\n",
      "sweep 5/5\n",
      "iter 26\n",
      "sweep 1/5\n",
      "sweep 2/5\n",
      "sweep 3/5\n",
      "sweep 4/5\n",
      "sweep 5/5\n",
      "iter 27\n",
      "sweep 1/5\n",
      "sweep 2/5\n",
      "sweep 3/5\n",
      "sweep 4/5\n",
      "sweep 5/5\n",
      "iter 28\n",
      "sweep 1/5\n",
      "sweep 2/5\n",
      "sweep 3/5\n",
      "sweep 4/5\n",
      "sweep 5/5\n",
      "iter 29\n",
      "sweep 1/5\n",
      "sweep 2/5\n",
      "sweep 3/5\n",
      "sweep 4/5\n",
      "sweep 5/5\n",
      "iter 30\n",
      "sweep 1/5\n",
      "sweep 2/5\n",
      "sweep 3/5\n",
      "sweep 4/5\n",
      "sweep 5/5\n",
      "iter 31\n",
      "sweep 1/5\n",
      "sweep 2/5\n",
      "sweep 3/5\n",
      "sweep 4/5\n",
      "sweep 5/5\n",
      "iter 32\n",
      "sweep 1/5\n",
      "sweep 2/5\n",
      "sweep 3/5\n",
      "sweep 4/5\n",
      "sweep 5/5\n",
      "iter 33\n",
      "sweep 1/5\n",
      "sweep 2/5\n",
      "sweep 3/5\n",
      "sweep 4/5\n",
      "sweep 5/5\n",
      "iter 34\n",
      "sweep 1/5\n",
      "sweep 2/5\n",
      "sweep 3/5\n",
      "sweep 4/5\n",
      "sweep 5/5\n",
      "iter 35\n",
      "sweep 1/5\n",
      "sweep 2/5\n",
      "sweep 3/5\n",
      "sweep 4/5\n",
      "sweep 5/5\n",
      "iter 36\n",
      "sweep 1/5\n",
      "sweep 2/5\n",
      "sweep 3/5\n",
      "sweep 4/5\n",
      "sweep 5/5\n",
      "iter 37\n",
      "sweep 1/5\n",
      "sweep 2/5\n",
      "sweep 3/5\n",
      "sweep 4/5\n",
      "sweep 5/5\n",
      "iter 38\n",
      "sweep 1/5\n",
      "sweep 2/5\n",
      "sweep 3/5\n",
      "sweep 4/5\n",
      "sweep 5/5\n",
      "iter 39\n",
      "sweep 1/5\n",
      "sweep 2/5\n",
      "sweep 3/5\n",
      "sweep 4/5\n",
      "sweep 5/5\n"
     ]
    }
   ],
   "source": [
    "for i in range(40):\n",
    "    print(f\"iter {i}\")\n",
    "    my_state.transition(5)\n",
    "    states.append(deepcopy(my_state))\n",
    "    liks.append(my_state.calc_log_lik_model())"
   ]
  },
  {
   "cell_type": "code",
   "execution_count": 117,
   "metadata": {},
   "outputs": [
    {
     "data": {
      "text/plain": [
       "<AxesSubplot: ylabel='Count'>"
      ]
     },
     "execution_count": 117,
     "metadata": {},
     "output_type": "execute_result"
    },
    {
     "data": {
      "image/png": "[encoded data removed]",
      "text/plain": [
       "<Figure size 640x480 with 1 Axes>"
      ]
     },
     "metadata": {},
     "output_type": "display_data"
    }
   ],
   "source": [
    "sns.histplot(liks)"
   ]
  },
  {
   "cell_type": "code",
   "execution_count": 121,
   "metadata": {},
   "outputs": [
    {
     "data": {
      "text/plain": [
       "101"
      ]
     },
     "execution_count": 121,
     "metadata": {},
     "output_type": "execute_result"
    }
   ],
   "source": [
    "len(liks)"
   ]
  },
  {
   "cell_type": "code",
   "execution_count": 118,
   "metadata": {},
   "outputs": [
    {
     "name": "stdout",
     "output_type": "stream",
     "text": [
      "-50.86441494518425\n",
      "10\n"
     ]
    },
    {
     "data": {
      "image/png": "[encoded data removed]",
      "text/plain": [
       "<Figure size 640x480 with 1 Axes>"
      ]
     },
     "metadata": {},
     "output_type": "display_data"
    }
   ],
   "source": [
    "best = np.argmax(liks)\n",
    "plot_state(states[best])\n",
    "print(liks[best])\n",
    "print(best)"
   ]
  },
  {
   "cell_type": "code",
   "execution_count": 119,
   "metadata": {},
   "outputs": [
    {
     "data": {
      "image/png": "[encoded data removed]",
      "text/plain": [
       "<Figure size 640x480 with 4 Axes>"
      ]
     },
     "metadata": {},
     "output_type": "display_data"
    }
   ],
   "source": [
    "plot_state(my_state) "
   ]
  },
  {
   "cell_type": "code",
   "execution_count": 91,
   "metadata": {},
   "outputs": [
    {
     "name": "stdout",
     "output_type": "stream",
     "text": [
      "Dim 5: [0.22897673516531825, 0.7332660242914494], {'s': 1.7243497742588065, 'b': 0.5785793245914403}\n"
     ]
    }
   ],
   "source": [
    "for dim in my_state.views[2].dims:\n",
    "    print(f\"Dim {dim.index}: {dim.params}, {dim.hypers}\")"
   ]
  },
  {
   "cell_type": "code",
   "execution_count": 98,
   "metadata": {},
   "outputs": [
    {
     "data": {
      "text/plain": [
       "<matplotlib.image.AxesImage at 0x1e545209750>"
      ]
     },
     "execution_count": 98,
     "metadata": {},
     "output_type": "execute_result"
    },
    {
     "data": {
      "image/png": "[encoded data removed]",
      "text/plain": [
       "<Figure size 400x533.333 with 1 Axes>"
      ]
     },
     "metadata": {},
     "output_type": "display_data"
    }
   ],
   "source": [
    "plt.matshow(data)"
   ]
  },
  {
   "cell_type": "code",
   "execution_count": null,
   "metadata": {},
   "outputs": [
    {
     "data": {
      "text/plain": [
       "<AxesSubplot: >"
      ]
     },
     "execution_count": 3,
     "metadata": {},
     "output_type": "execute_result"
    },
    {
     "data": {
      "image/png": "[encoded data removed]",
      "text/plain": [
       "<Figure size 640x480 with 2 Axes>"
      ]
     },
     "metadata": {},
     "output_type": "display_data"
    }
   ],
   "source": [
    "sns.heatmap(data)"
   ]
  },
  {
   "cell_type": "code",
   "execution_count": null,
   "metadata": {},
   "outputs": [],
   "source": [
    "# data = np.ones((1000, 2))\n",
    "# data = np.concatenate((data, np.zeros((2000, 2))))\n",
    "# n_obs, n_dims = data.shape"
   ]
  }
 ],
 "metadata": {
  "kernelspec": {
   "display_name": "sith_env",
   "language": "python",
   "name": "python3"
  },
  "language_info": {
   "codemirror_mode": {
    "name": "ipython",
    "version": 3
   },
   "file_extension": ".py",
   "mimetype": "text/x-python",
   "name": "python",
   "nbconvert_exporter": "python",
   "pygments_lexer": "ipython3",
   "version": "3.10.9"
  },
  "orig_nbformat": 4,
  "vscode": {
   "interpreter": {
    "hash": "1d1c6ac44c4526c173b2d6397552bb59dab39cd395e0f154fdb00f7cac3428c0"
   }
  }
 },
 "nbformat": 4,
 "nbformat_minor": 2
}
